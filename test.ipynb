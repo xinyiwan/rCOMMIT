{
 "cells": [
  {
   "cell_type": "code",
   "execution_count": 1,
   "metadata": {},
   "outputs": [
    {
     "name": "stderr",
     "output_type": "stream",
     "text": [
      "/Users/xinyi/Documents/GitHub/rCOMMIT/env/lib/python3.8/site-packages/tqdm/auto.py:22: TqdmWarning: IProgress not found. Please update jupyter and ipywidgets. See https://ipywidgets.readthedocs.io/en/stable/user_install.html\n",
      "  from .autonotebook import tqdm as notebook_tqdm\n"
     ]
    }
   ],
   "source": [
    "import commit\n"
   ]
  },
  {
   "cell_type": "code",
   "execution_count": 3,
   "metadata": {},
   "outputs": [
    {
     "name": "stdout",
     "output_type": "stream",
     "text": [
      "\u001b[0;32m\n",
      "-> Creating the dictionary from tractogram:\u001b[0m\n",
      "\u001b[0;32m\n",
      "   * Configuration:\u001b[0m\n",
      "\t- Segment position = COMPUTE INTERSECTIONS\n",
      "\t- Coordinates shift in X = 0.500 (voxel-size units)\n",
      "\t- Coordinates shift in Y = 0.500 (voxel-size units)\n",
      "\t- Coordinates shift in Z = 0.500 (voxel-size units)\n",
      "\t- Min segment len  = 0.001 mm\n",
      "\t- Min streamline len    = 0.00 mm\n",
      "\t- Max streamline len    = 250.00 mm\n",
      "\t- Do not blur streamlines\n",
      "\t- Output written to \"demo01_data/COMMIT\"\n",
      "\u001b[0;32m\n",
      "   * Loading data:\u001b[0m\n",
      "\t- Tractogram\n",
      "\t\t- geometry taken from \"demo01_data/peaks.nii.gz\"\n",
      "\t\t- 106 x 106 x 60\n",
      "\t\t- 2.0000 x 2.0000 x 2.0000\n",
      "\t\t- 283522 streamlines\n",
      "\t- Filtering mask\n",
      "\t\t- 106 x 106 x 60\n",
      "\t\t- 2.0000 x 2.0000 x 2.0000\n",
      "\t- EC orientations\n",
      "\t\t- 106 x 106 x 60 x 9\n",
      "\t\t- 2.0000 x 2.0000 x 2.0000\n",
      "\t\t- ignoring peaks < 0.10 * MaxPeak\n",
      "\t\t- using affine matrix\n",
      "\t\t- flipping axes : [ x=False, y=False, z=False ]\n"
     ]
    }
   ],
   "source": [
    "from commit import trk2dictionary\n",
    "trk2dictionary.run(\n",
    "    filename_tractogram = 'demo01_data/demo01_fibers.tck',\n",
    "    filename_peaks      = 'demo01_data/peaks.nii.gz',\n",
    "    filename_mask       = 'demo01_data/WM.nii.gz',\n",
    "    fiber_shift         = 0.5,\n",
    "    peaks_use_affine    = True\n",
    ")"
   ]
  }
 ],
 "metadata": {
  "kernelspec": {
   "display_name": "Python 3.8.8 ('base')",
   "language": "python",
   "name": "python3"
  },
  "language_info": {
   "codemirror_mode": {
    "name": "ipython",
    "version": 3
   },
   "file_extension": ".py",
   "mimetype": "text/x-python",
   "name": "python",
   "nbconvert_exporter": "python",
   "pygments_lexer": "ipython3",
   "version": "3.8.8"
  },
  "orig_nbformat": 4,
  "vscode": {
   "interpreter": {
    "hash": "40d3a090f54c6569ab1632332b64b2c03c39dcf918b08424e98f38b5ae0af88f"
   }
  }
 },
 "nbformat": 4,
 "nbformat_minor": 2
}
